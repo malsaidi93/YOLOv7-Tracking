{
 "cells": [
  {
   "cell_type": "code",
   "execution_count": 1,
   "metadata": {
    "tags": []
   },
   "outputs": [],
   "source": [
    "import os, sys\n",
    "import glob\n",
    "import tqdm\n",
    "import copy"
   ]
  },
  {
   "cell_type": "code",
   "execution_count": 39,
   "metadata": {
    "collapsed": false,
    "jupyter": {
     "outputs_hidden": false
    }
   },
   "outputs": [],
   "source": [
    "label_file = glob.glob('Beluga_1080-1/test/labels/*.txt')\n",
    "file = label_file[0]"
   ]
  },
  {
   "cell_type": "code",
   "execution_count": 35,
   "metadata": {
    "collapsed": false,
    "jupyter": {
     "outputs_hidden": false
    }
   },
   "outputs": [
    {
     "data": {
      "text/plain": [
       "'Beluga_1080-1/train/labels\\\\00000000_png.rf.923b65aab4f70cdec39acb74a5645322.txt'"
      ]
     },
     "execution_count": 35,
     "metadata": {},
     "output_type": "execute_result"
    }
   ],
   "source": [
    "label_file[0]"
   ]
  },
  {
   "cell_type": "code",
   "execution_count": 40,
   "metadata": {},
   "outputs": [
    {
     "name": "stderr",
     "output_type": "stream",
     "text": [
      "100%|█████████████████████████████████████████████████████████████████████████████████| 13/13 [00:00<00:00, 282.62it/s]\n"
     ]
    }
   ],
   "source": [
    "lll=[]\n",
    "for file in tqdm.tqdm(label_file):\n",
    "    nl=[]\n",
    "    name = file.split('\\\\')[-1]\n",
    "    with open(file) as f:\n",
    "        for l in f.readlines():\n",
    "            # print(l)\n",
    "            # print(l[0])\n",
    "            c = l[0]\n",
    "            if c == '0':\n",
    "                newline = l.replace(c,'1')\n",
    "            elif c =='1':\n",
    "                newline = l.replace(c,'0')\n",
    "            # print(newline)\n",
    "            nl.append(newline)\n",
    "            \n",
    "    with open(f'Beluga_1080-1/test/labelz/{name}', 'w') as file:\n",
    "        for l in nl:\n",
    "            file.write(l)        "
   ]
  },
  {
   "cell_type": "code",
   "execution_count": 32,
   "metadata": {},
   "outputs": [],
   "source": []
  },
  {
   "cell_type": "code",
   "execution_count": 2,
   "metadata": {},
   "outputs": [],
   "source": [
    "import cv2\n",
    "import numpy as np\n",
    "\n",
    "def write_bounding_boxes(image_path, labels_path):\n",
    "    # Load the image\n",
    "    image = cv2.imread(image_path)\n",
    "    \n",
    "    # Get image dimensions\n",
    "    height, width, _ = image.shape\n",
    "    \n",
    "    # Read the labels file\n",
    "    with open(labels_path, 'r') as file:\n",
    "        lines = file.readlines()\n",
    "    \n",
    "    # Iterate over the lines in the labels file\n",
    "    for line in lines:\n",
    "        # Split the line by whitespace\n",
    "        data = line.split()\n",
    "        \n",
    "        # Parse the label and bounding box coordinates\n",
    "        label = int(data[0])\n",
    "        x, y, w, h = map(float, data[1:])\n",
    "        \n",
    "        # Convert the coordinates to pixel values\n",
    "        x1 = int((x - w/2) * width)\n",
    "        y1 = int((y - h/2) * height)\n",
    "        x2 = int((x + w/2) * width)\n",
    "        y2 = int((y + h/2) * height)\n",
    "        \n",
    "        # Draw the bounding box on the image\n",
    "        color = (0, 255, 0) if label == 1 else (255, 0, 0)\n",
    "        cv2.rectangle(image, (x1, y1), (x2, y2), color, 2)\n",
    "        \n",
    "        # Write the label text on the image\n",
    "        label_text = \"Beluga\" if label == 1 else \"Beluga Calf\"\n",
    "        cv2.putText(image, label_text, (x1, y1-10), cv2.FONT_HERSHEY_SIMPLEX, 0.9, color, 2)\n",
    "\n",
    "    cv2.\n",
    "    \n",
    "    # Display the image with bounding boxes and labels\n",
    "#     cv2.imsa\n",
    "#     cv2.imshow(\"Image\", image)\n",
    "#     cv2.waitKey(0)\n",
    "#     cv2.destroyAllWindows()\n",
    "\n",
    "# # Example usage\n",
    "# image_path = \"Beluga_1080/test/images/00000720_png.rf.a9861b8e4eac3030142281d1000f4d83.jpg\"\n",
    "# labels_path = \"Beluga_1080/test/labels/00000720_png.rf.a9861b8e4eac3030142281d1000f4d83.txt\"\n",
    "\n",
    "# write_bounding_boxes(image_path, labels_path)\n"
   ]
  },
  {
   "cell_type": "code",
   "execution_count": 2,
   "metadata": {},
   "outputs": [],
   "source": [
    "import os\n",
    "import cv2\n",
    "\n",
    "def annotate_images(source_dir, labels_dir, destination_dir):\n",
    "    # Iterate over the files in the source directory\n",
    "    for filename in os.listdir(source_dir):\n",
    "        # Check if the file is an image file\n",
    "        if filename.endswith(('.jpg', '.jpeg', '.png')):\n",
    "            # Construct the paths to the image and labels files\n",
    "            image_path = os.path.join(source_dir, filename)\n",
    "            labels_path = os.path.join(labels_dir, os.path.splitext(filename)[0] + '.txt')\n",
    "            \n",
    "            # Load the image\n",
    "            image = cv2.imread(image_path)\n",
    "            \n",
    "            # Get image dimensions\n",
    "            height, width, _ = image.shape\n",
    "            \n",
    "            # Read the labels file\n",
    "            with open(labels_path, 'r') as file:\n",
    "                lines = file.readlines()\n",
    "            \n",
    "            # Iterate over the lines in the labels file\n",
    "            for line in lines:\n",
    "                # Split the line by whitespace\n",
    "                data = line.split()\n",
    "                \n",
    "                # Parse the label and bounding box coordinates\n",
    "                label = int(data[0])\n",
    "                x, y, w, h = map(float, data[1:])\n",
    "                \n",
    "                # Convert the coordinates to pixel values\n",
    "                x1 = int((x - w/2) * width)\n",
    "                y1 = int((y - h/2) * height)\n",
    "                x2 = int((x + w/2) * width)\n",
    "                y2 = int((y + h/2) * height)\n",
    "                \n",
    "                # Draw the bounding box on the image\n",
    "                color = (0, 255, 0) if label == 1 else (255, 0, 0)\n",
    "                cv2.rectangle(image, (x1, y1), (x2, y2), color, 2)\n",
    "                \n",
    "                # Write the label text on the image\n",
    "                label_text = \"Beluga Calf\" if label == 1 else \"Beluga\"\n",
    "                cv2.putText(image, label_text, (x1, y1-10), cv2.FONT_HERSHEY_SIMPLEX, 0.9, color, 2)\n",
    "            \n",
    "            # Save the annotated image to the destination directory\n",
    "            annotated_image_path = os.path.join(destination_dir, filename)\n",
    "            cv2.imwrite(annotated_image_path, image)\n",
    "            print(f'File saved{filename}')\n",
    "\n",
    "# # Example usage\n",
    "# source_directory = \"Beluga_1080/test/images\"\n",
    "# labels_directory = \"Beluga_1080/test/labels\"\n",
    "# destination_directory = 'runs/detect/exp18_test_actual'\n",
    "\n",
    "# annotate_images(source_directory, labels_directory, destination_directory)\n"
   ]
  },
  {
   "cell_type": "code",
   "execution_count": 14,
   "metadata": {},
   "outputs": [],
   "source": [
    "import os\n",
    "import cv2\n",
    "\n",
    "def annotate_images(source_dir, labels_dir, destination_dir):\n",
    "    # Iterate over the files in the source directory\n",
    "    for filename in os.listdir(source_dir):\n",
    "        # Check if the file is an image file\n",
    "        if filename.endswith(('.jpg', '.jpeg', '.png')):\n",
    "            # Construct the paths to the image and labels files\n",
    "            image_path = os.path.join(source_dir, filename)\n",
    "            labels_path = os.path.join(labels_dir, os.path.splitext(filename)[0] + '.txt')\n",
    "            \n",
    "            # Load the image\n",
    "            image = cv2.imread(image_path)\n",
    "            \n",
    "            # Get image dimensions\n",
    "            height, width, _ = image.shape\n",
    "            \n",
    "            # Read the labels file\n",
    "            with open(labels_path, 'r') as file:\n",
    "                lines = file.readlines()\n",
    "            \n",
    "            # Iterate over the lines in the labels file\n",
    "            for line in lines:\n",
    "                # Split the line by whitespace\n",
    "                data = line.split()\n",
    "                \n",
    "                # Parse the label and bounding box coordinates\n",
    "                obj_id = int(data[0])\n",
    "                # label = \"Beluga\"\n",
    "                x, y, w, h = map(float, data[1:])\n",
    "                \n",
    "                # Convert the coordinates to pixel values\n",
    "                x1 = int((x - w/2) * width)\n",
    "                y1 = int((y - h/2) * height)\n",
    "                x2 = int((x + w/2) * width)\n",
    "                y2 = int((y + h/2) * height)\n",
    "                \n",
    "                # Draw the bounding box on the image\n",
    "                color = (0, 255, 0) \n",
    "                cv2.rectangle(image, (x1, y1), (x2, y2), color, 2)\n",
    "                \n",
    "                # Write the label text on the image\n",
    "                label_text = f\"Beluga_{obj_id}\"\n",
    "                cv2.putText(image, label_text, (x1, y1-10), cv2.FONT_HERSHEY_SIMPLEX, 0.9, color, 2)\n",
    "            \n",
    "            # Save the annotated image to the destination directory\n",
    "            annotated_image_path = os.path.join(destination_dir, filename)\n",
    "            cv2.imwrite(annotated_image_path, image)\n",
    "            print(f'File saved{filename}')\n",
    "\n"
   ]
  },
  {
   "cell_type": "code",
   "execution_count": 17,
   "metadata": {},
   "outputs": [],
   "source": [
    "import os\n",
    "import cv2\n",
    "\n",
    "def annotate_images(source_dir, labels_dir, destination_dir):\n",
    "    # Iterate over the files in the source directory\n",
    "    for filename in os.listdir(source_dir):\n",
    "        # Check if the file is an image file\n",
    "        if filename.endswith(('.jpg', '.jpeg', '.png')):\n",
    "            # Construct the paths to the image and labels files\n",
    "            image_path = os.path.join(source_dir, filename)\n",
    "            labels_path = os.path.join(labels_dir, os.path.splitext(filename)[0] + '.txt')\n",
    "            \n",
    "            # Load the image\n",
    "            image = cv2.imread(image_path)\n",
    "            \n",
    "            # Get image dimensions\n",
    "            height, width, _ = image.shape\n",
    "            \n",
    "            # Read the labels file\n",
    "            with open(labels_path, 'r') as file:\n",
    "                lines = file.readlines()\n",
    "            \n",
    "            # Iterate over the lines in the labels file\n",
    "            for line in lines:\n",
    "                # Split the line by whitespace\n",
    "                data = line.split()\n",
    "                \n",
    "                # Parse the label and bounding box coordinates\n",
    "                obj_id = int(data[0])\n",
    "                # label = \"Beluga\"\n",
    "                x1, y1, x2, y2 = map(float, data[1:])\n",
    "                \n",
    "                # Convert the coordinates to pixel values\n",
    "                # x1 = int((x - w/2))\n",
    "                # y1 = int((y - h/2))\n",
    "                # x2 = int((x + w/2))\n",
    "                # y2 = int((y + h/2))\n",
    "                \n",
    "                # Draw the bounding box on the image\n",
    "                color = (0, 0, 255) \n",
    "                cv2.rectangle(image, (x1, y1), (x2, y2), color, 2)\n",
    "                \n",
    "                # Write the label text on the image\n",
    "                label_text = f\"Beluga_{obj_id}\"\n",
    "                cv2.putText(image, label_text, (x1, y1-10), cv2.FONT_HERSHEY_SIMPLEX, 0.9, color, 2)\n",
    "            \n",
    "            # Save the annotated image to the destination directory\n",
    "            annotated_image_path = os.path.join(destination_dir, filename)\n",
    "            cv2.imwrite(annotated_image_path, image)\n",
    "            print(f'File saved{filename}')\n",
    "\n"
   ]
  },
  {
   "cell_type": "code",
   "execution_count": 15,
   "metadata": {},
   "outputs": [
    {
     "data": {
      "text/plain": [
       "'/Users/mustafa/Desktop/ProgressReportStuff/yolov7-old'"
      ]
     },
     "execution_count": 15,
     "metadata": {},
     "output_type": "execute_result"
    }
   ],
   "source": [
    "pwd"
   ]
  },
  {
   "cell_type": "code",
   "execution_count": 18,
   "metadata": {},
   "outputs": [
    {
     "name": "stdout",
     "output_type": "stream",
     "text": [
      "File savedframe_0015.png\n",
      "File savedframe_0210.png\n",
      "File savedframe_0165.png\n",
      "File savedframe_0315.png\n",
      "File savedframe_0300.png\n",
      "File savedframe_0060.png\n",
      "File savedframe_0075.png\n",
      "File savedframe_0105.png\n",
      "File savedframe_0270.png\n",
      "File savedframe_0240.png\n",
      "File savedframe_0255.png\n",
      "File savedframe_0135.png\n",
      "File savedframe_0120.png\n",
      "File savedframe_0285.png\n",
      "File savedframe_0045.png\n",
      "File savedframe_0090.png\n",
      "File savedframe_0330.png\n",
      "File savedframe_0195.png\n",
      "File savedframe_0180.png\n",
      "File savedframe_0225.png\n",
      "File savedframe_0030.png\n",
      "File savedframe_0150.png\n"
     ]
    }
   ],
   "source": [
    "# Example usage\n",
    "source_directory = \"../tracking_videos/frames/track_beluga_ip/gt_annot\"\n",
    "labels_directory = \"../AS-One/data/text_annot\"\n",
    "destination_directory = '../tracking_videos/frames/track_beluga_ip/tracking_comparison'\n",
    "\n",
    "annotate_images(source_directory, labels_directory, destination_directory)"
   ]
  },
  {
   "cell_type": "code",
   "execution_count": 10,
   "metadata": {},
   "outputs": [
    {
     "data": {
      "image/png": "[encoded data removed]",
      "text/plain": [
       "<Figure size 1200x800 with 2 Axes>"
      ]
     },
     "metadata": {},
     "output_type": "display_data"
    }
   ],
   "source": [
    "import numpy as np\n",
    "import matplotlib.pyplot as plt\n",
    "import seaborn as sns\n",
    "import matplotlib.colors as mcolors\n",
    "\n",
    "def generate_confusion_matrix(values, labels, fontsize=18, cmap='blues'):\n",
    "    # Create a figure and axis\n",
    "    fig, ax = plt.subplots(figsize=(12, 8))\n",
    "    \n",
    "    # Normalize the values\n",
    "    # normalized_values = values.astype('float') / values.sum(axis=1)[:, np.newaxis]\n",
    "    normalized_values = values\n",
    "    # sns.set_style(\"white\")\n",
    "    \n",
    "    # Create the confusion matrix\n",
    "    im = ax.imshow(normalized_values, cmap=cmap)\n",
    "    \n",
    "    # Add colorbar\n",
    "    cbar = ax.figure.colorbar(im, ax=ax)\n",
    "    # cbar.set_ticks([0, 0.5, 0.8])  # Set desired tick values\n",
    "    \n",
    "    # Set colorbar label\n",
    "    # cbar.ax.set_ylabel('Normalized', rotation= 90, va=\"bottom\", ha=\"right\", fontsize=fontsize)\n",
    "    \n",
    "    # Set ticks and labels for x-axis and y-axis\n",
    "    ax.set_xticks(np.arange(len(labels)))\n",
    "    ax.set_yticks(np.arange(len(labels)))\n",
    "    ax.set_xticklabels(labels, fontsize=fontsize)\n",
    "    ax.set_yticklabels(labels, ha=\"right\", va=\"center\", rotation=90, fontsize=fontsize)\n",
    "    \n",
    "    # Set x and y labels\n",
    "    ax.set_xlabel('True', fontsize=fontsize)\n",
    "    ax.set_ylabel('Predicted', fontsize=fontsize)\n",
    "    \n",
    "    # Rotate the tick labels and set their alignment\n",
    "    plt.setp(ax.get_xticklabels(), rotation=0, ha=\"center\",\n",
    "             rotation_mode=\"anchor\")\n",
    "    \n",
    "    # Loop over data dimensions and create text annotations\n",
    "    for i in range(len(labels)):\n",
    "        for j in range(len(labels)):\n",
    "            text = ax.text(j, i, values[i, j],\n",
    "                           ha=\"center\", va=\"center\", color=mcolors.CSS4_COLORS['orange'], fontsize=fontsize)\n",
    "    \n",
    "    # Set title\n",
    "    ax.set_title(\"Confusion Matrix\", fontsize=fontsize, va=\"center\")\n",
    "    \n",
    "    # Show the plot\n",
    "    plt.tight_layout()\n",
    "    # plt.show()\n",
    "    # plt.imsave('cms/cm1.png',fig)\n",
    "    plt.savefig('cms/test_cm.png', dpi=300, bbox_inches='tight')\n",
    "\n",
    "# Example usage\n",
    "# values = np.array([[0.98, 0.06, 0.01], [0.02, 0.89, 0.36], [0, 0.04, 0.63]])\n",
    "values = np.array([[0.95, 0.06, 0.60], [0.01, 0.9, 0.4], [0.04, 0.04, 0]])\n",
    "labels = [\"Beluga\", \"Beluga Calf\", \"Background\"]\n",
    "\n",
    "generate_confusion_matrix(values, labels, fontsize=18, cmap='Blues')\n"
   ]
  },
  {
   "cell_type": "code",
   "execution_count": null,
   "metadata": {},
   "outputs": [],
   "source": []
  },
  {
   "cell_type": "code",
   "execution_count": null,
   "metadata": {},
   "outputs": [],
   "source": []
  },
  {
   "cell_type": "code",
   "execution_count": null,
   "metadata": {},
   "outputs": [],
   "source": []
  },
  {
   "cell_type": "code",
   "execution_count": 1,
   "metadata": {},
   "outputs": [
    {
     "name": "stdout",
     "output_type": "stream",
     "text": [
      "/Users/mustafa/Desktop/ProgressReportStuff/yolov7-old\n"
     ]
    }
   ],
   "source": [
    "!pwd"
   ]
  },
  {
   "cell_type": "code",
   "execution_count": 7,
   "metadata": {},
   "outputs": [],
   "source": [
    "import os\n",
    "\n",
    "# Set the directory where your files are located\n",
    "directory = 'Beluga_1080-1/test/labels'\n",
    "\n",
    "# List all files in the directory\n",
    "file_list = os.listdir(directory)\n",
    "\n",
    "# Define a new name pattern and initialize a counter\n",
    "new_name_pattern = 'test_label_{}.txt'\n",
    "counter = 1\n",
    "\n",
    "# Loop through the files and rename them\n",
    "for filename in file_list:\n",
    "    # Construct the new name\n",
    "    new_name = new_name_pattern.format(counter)\n",
    "    \n",
    "    # Construct the full file paths\n",
    "    old_file_path = os.path.join(directory, filename)\n",
    "    new_file_path = os.path.join(directory, new_name)\n",
    "    \n",
    "    # Rename the file\n",
    "    os.rename(old_file_path, new_file_path)\n",
    "    \n",
    "    # Increment the counter for the next file\n",
    "    counter += 1\n"
   ]
  },
  {
   "cell_type": "code",
   "execution_count": null,
   "metadata": {},
   "outputs": [],
   "source": []
  }
 ],
 "metadata": {
  "kernelspec": {
   "display_name": "Python 3 (ipykernel)",
   "language": "python",
   "name": "python3"
  },
  "language_info": {
   "codemirror_mode": {
    "name": "ipython",
    "version": 3
   },
   "file_extension": ".py",
   "mimetype": "text/x-python",
   "name": "python",
   "nbconvert_exporter": "python",
   "pygments_lexer": "ipython3",
   "version": "3.10.6"
  }
 },
 "nbformat": 4,
 "nbformat_minor": 4
}
