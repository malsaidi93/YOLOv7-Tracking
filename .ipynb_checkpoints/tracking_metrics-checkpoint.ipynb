{
 "cells": [
  {
   "cell_type": "code",
   "execution_count": 287,
   "id": "22939575-acc5-4bbe-8cd7-954118c20946",
   "metadata": {},
   "outputs": [],
   "source": [
    "import math\n",
    "\n",
    "def euclidean_distance(point1, point2):\n",
    "    # Calculate the Euclidean distance between two points\n",
    "    return math.sqrt((point1[0] - point2[0])**2 + (point1[1] - point2[1])**2)\n",
    "\n",
    "def calculate_iou(box1, box2):\n",
    "    # Calculate Intersection over Union (IoU) between two bounding boxes\n",
    "    x1, y1, x2, y2 = box1\n",
    "    x3, y3, x4, y4 = box2\n",
    "\n",
    "    intersection_area = max(0, min(x2, x4) - max(x1, x3)) * max(0, min(y2, y4) - max(y1, y3))\n",
    "    area1 = (x2 - x1) * (y2 - y1)\n",
    "    area2 = (x4 - x3) * (y4 - y3)\n",
    "    union_area = area1 + area2 - intersection_area\n",
    "\n",
    "    iou = intersection_area / union_area\n",
    "    return iou\n",
    "\n",
    "def calculate_distance(box1, box2):\n",
    "    # Calculate Intersection over Union (IoU) between two bounding boxes\n",
    "    x1, y1, x2, y2 = box1\n",
    "    x3, y3, x4, y4 = box2\n",
    "\n",
    "    center_x1 = (x1 + x2) / 2\n",
    "    center_y1 = (y1 + y2) / 2\n",
    "\n",
    "    center_x2 = (x3 + x4) / 2\n",
    "    center_y2 = (y3 + y4) / 2\n",
    "\n",
    "    c1 = (center_x1, center_y1)\n",
    "    c2 = (center_x2, center_y2)\n",
    "\n",
    "    dc1c2 = euclidean_distance(c1,c2)\n",
    "\n",
    "\n",
    "    return dc1c2\n",
    "\n",
    "\n",
    "def find_bbox_center(x1, y1, x2, y2):\n",
    "    center_x = (x1 + x2) / 2\n",
    "    center_y = (y1 + y2) / 2\n",
    "    return center_x, center_y\n",
    "    \n",
    "\n",
    "def calculate_mota(ground_truth, system, iou_threshold=0.3):\n",
    "    TP, FP, FN = 0, 0, 0\n",
    "    matched_gt = set()\n",
    "    matched_sys = set()\n",
    "    ious=[]\n",
    "    MOTP=[]\n",
    "\n",
    "    if len(ground_truth) != len(system):\n",
    "            r = min(len(ground_truth), len(system))\n",
    "    else:\n",
    "        r = len(ground_truth)\n",
    "\n",
    "    for i in range(0,r):\n",
    "       \n",
    "        sys_id = int(system[i][0])\n",
    "        sys_box = system[i][1:]\n",
    "        best_iou = 0\n",
    "        \n",
    "        gt_id = int(ground_truth[i][0])\n",
    "        gt_box = ground_truth[i][1:]\n",
    "        \n",
    "        iou = calculate_iou(sys_box, gt_box)\n",
    "        # ious.append(iou)\n",
    "        # dc1c2 = calculate_distance(sys_box, gt_box)\n",
    "\n",
    "        \n",
    "        \n",
    "        IDS = sys_id - gt_id \n",
    "        \n",
    "        if iou >= iou_threshold:\n",
    "            TP += 1\n",
    "            matched_gt.add(1)\n",
    "            matched_sys.add(1)\n",
    "            \n",
    "        else:\n",
    "            FP += 1\n",
    "            \n",
    "        ious.append(iou)\n",
    "        motp = 1-iou/TP\n",
    "        MOTP.append(motp)\n",
    "\n",
    "    FN = len(ground_truth) - len(matched_gt)\n",
    "\n",
    "    MOTA = abs(1 - (FN + FP + IDS) / (TP + FN))\n",
    "\n",
    "    return MOTA,MOTP\n",
    "\n",
    "# def calculate_motp(gt, sys):\n",
    "    \n",
    "def calculate_dir_mota(gt_path, annot_path):\n",
    "\n",
    "    gt_files = os.listdir(gt_path)\n",
    "    sys_files = os.listdir(annot_path)\n",
    "\n",
    "    gt_files.remove('.ipynb_checkpoints')\n",
    "    # sys_files.remove('.ipynb_checkpoints')\n",
    "\n",
    "    MOTA = []\n",
    "\n",
    "    GT_A = []\n",
    "    SYS_A = []\n",
    "\n",
    "    for filename in gt_files:\n",
    "        gt_path = os.path.join(ground_truth_dir, filename)\n",
    "        sys_path = os.path.join(system_dir, filename)\n",
    "\n",
    "        with open(gt_path, 'r') as gt_file, open(sys_path, 'r') as sys_file:\n",
    "            gt_annotations = [tuple(map(float, line.strip().split())) for line in gt_file.readlines()]\n",
    "            sys_annotations = [tuple(map(float, line.strip().split())) for line in sys_file.readlines()]\n",
    "            gts=[]\n",
    "            for a in gt_annotations:\n",
    "                gt = normalize_to_pixels(a, 3840,2160)\n",
    "                gts.append(gt)\n",
    "            \n",
    "            gt_annotations = gts\n",
    "            # print(sys_annotations)\n",
    "            GT_A.append(gt_annotations)\n",
    "            SYS_A.append(sys_annotations)\n",
    "\n",
    "            \n",
    "            mota = calculate_mota(gt_annotations, sys_annotations, iou_threshold=0.5)\n",
    "            MOTA.append(mota)\n",
    "\n",
    "    avg_mota = sum(MOTA)/len(MOTA)\n",
    "    print(avg_mota)\n",
    "    \n",
    "    return MOTA, GT_A, SYS_A, avg_mota"
   ]
  },
  {
   "cell_type": "code",
   "execution_count": 288,
   "id": "3f6409f7-30e2-4560-92b7-c49d91093ab5",
   "metadata": {},
   "outputs": [],
   "source": [
    "s = sys_annotations\n",
    "g = gt_annotations\n",
    "\n",
    "ma, mp= calculate_mota(s,g)"
   ]
  },
  {
   "cell_type": "code",
   "execution_count": 279,
   "id": "6df003e4-37e2-4c29-a9f6-ce20b3854ad8",
   "metadata": {},
   "outputs": [
    {
     "data": {
      "text/plain": [
       "[0.6554572271386431, 0.7011526454814696, 0.785140463685597]"
      ]
     },
     "execution_count": 279,
     "metadata": {},
     "output_type": "execute_result"
    }
   ],
   "source": [
    "mp"
   ]
  },
  {
   "cell_type": "code",
   "execution_count": 280,
   "id": "6a973995-3308-462b-bd73-8e0f64b09f32",
   "metadata": {},
   "outputs": [
    {
     "data": {
      "text/plain": [
       "0.4"
      ]
     },
     "execution_count": 280,
     "metadata": {},
     "output_type": "execute_result"
    }
   ],
   "source": [
    "ma"
   ]
  },
  {
   "cell_type": "code",
   "execution_count": 253,
   "id": "7c98ba26-9917-4a70-bbaa-36cbd771f2da",
   "metadata": {},
   "outputs": [
    {
     "name": "stdout",
     "output_type": "stream",
     "text": [
      "0.7954545454545454\n"
     ]
    }
   ],
   "source": [
    "ground_truth_dir = \"../tracking_videos/frames/track_beluga_ip/labels_gt\"\n",
    "system_dir = \"../AS-One/data/text_annot_deepsort_ordered\"\n",
    "\n",
    "M, GT_A, SYS_A, a= calculate_dir_mota(ground_truth_dir, system_dir)"
   ]
  },
  {
   "cell_type": "code",
   "execution_count": 257,
   "id": "eb58cf48-f93b-4e94-8eb0-039e05cd1aab",
   "metadata": {},
   "outputs": [],
   "source": [
    "def find_bbox_center(x1, y1, x2, y2):\n",
    "    center_x = (x1 + x2) / 2\n",
    "    center_y = (y1 + y2) / 2\n",
    "    return center_x, center_y"
   ]
  },
  {
   "cell_type": "code",
   "execution_count": null,
   "id": "feaedbd3-3057-4471-b713-b6e49cfef39c",
   "metadata": {},
   "outputs": [],
   "source": [
    "import math\n",
    "\n",
    "def euclidean_distance(point1, point2):\n",
    "    # Calculate the Euclidean distance between two points\n",
    "    return math.sqrt((point1[0] - point2[0])**2 + (point1[1] - point2[1])**2)\n",
    "\n",
    "def calculate_motp(ground_truth, system):\n",
    "    # Initialize variables to keep track of the sum of distances and the count of correctly matched objects\n",
    "    total_distance = 0\n",
    "    correct_matches = 0\n",
    "\n",
    "    if len(ground_truth) != len(system):\n",
    "        r = min(len(ground_truth), len(system))\n",
    "    else:\n",
    "        r = len(ground_truth)\n",
    "\n",
    "    # Calculate the MOTP\n",
    "    for i in range(0, r):\n",
    "        sys_id = int(system[i][0])\n",
    "        sys_position = system[i][1:]\n",
    "        gt_id = int(ground_truth[i][0])\n",
    "        gt_position = ground_truth[i][1:]\n",
    "\n",
    "        distance = euclidean_distance(sys_position, gt_position)\n",
    "        total_distance += distance\n",
    "        correct_matches += 1\n",
    "\n",
    "    if correct_matches == 0:\n",
    "        return 0  # Avoid division by zero\n",
    "\n",
    "    motp = total_distance / correct_matches\n",
    "    return motp\n",
    "\n",
    "# Example usage:\n",
    "ground_truth_positions = [(1, 10, 20), (2, 30, 40), (3, 50, 60)]\n",
    "system_positions = [(1, 11, 21), (2, 32, 42), (3, 55, 65)]\n",
    "\n",
    "motp_value = calculate_motp(ground_truth_positions, system_positions)\n",
    "print(\"MOTP:\", motp_value)\n"
   ]
  },
  {
   "cell_type": "code",
   "execution_count": 79,
   "id": "847cfc70-c0d6-4aa1-8f62-69d2af263590",
   "metadata": {},
   "outputs": [],
   "source": [
    "'''\n",
    "Normalized annotation to pixel value \n",
    "args:\n",
    "- annotation line (not file path)\n",
    "- image width\n",
    "- image height\n",
    "\n",
    "returns (obj_id, x1, y1, x2, y2)\n",
    "'''\n",
    "\n",
    "def normalize_to_pixels(annotation, width, height):\n",
    "    # Convert normalized coordinates to pixel values\n",
    "    # data = annotation.split()\n",
    "    object_id = annotation[0]\n",
    "    x, y, w, h = map(float, annotation[1:])\n",
    "    \n",
    "    # object_id, x_norm, y_norm, w_norm, h_norm = annotation\n",
    "    x1 = int((x - w / 2) * width)\n",
    "    y1 = int((y - h / 2) * height)\n",
    "    x2 = int((x + w / 2) * width)\n",
    "    y2 = int((y + h / 2) * height)\n",
    "    return object_id, x1, y1, x2, y2"
   ]
  },
  {
   "cell_type": "code",
   "execution_count": 142,
   "id": "a6aef07a-58d8-4ebc-942b-273a95872ec2",
   "metadata": {},
   "outputs": [],
   "source": [
    "def normalize_file_to_pixels(annotation, width, height):\n",
    "    # Convert normalized coordinates to pixel values\n",
    "    data = annotation.split()\n",
    "    object_id = int(annotation[0])\n",
    "    x, y, w, h = map(float, data[1:])\n",
    "    \n",
    "    # object_id, x_norm, y_norm, w_norm, h_norm = annotation\n",
    "    x1 = int((x - w / 2) * width)\n",
    "    y1 = int((y - h / 2) * height)\n",
    "    x2 = int((x + w / 2) * width)\n",
    "    y2 = int((y + h / 2) * height)\n",
    "    return object_id, x1, y1, x2, y2"
   ]
  },
  {
   "cell_type": "code",
   "execution_count": 151,
   "id": "28d34229-5231-4252-8c3b-5315ff0a2675",
   "metadata": {},
   "outputs": [],
   "source": [
    "width = 3840  # Replace with your image width\n",
    "height = 2160  \n",
    "\n",
    "gts = []\n",
    "ss = []\n",
    "\n",
    "with open('../tracking_videos/frames/track_beluga_ip/labels_gt/frame_0015.txt','r') as f, open('../AS-One/data/text_annot_deepsort_ordered/frame_0015.txt','r') as s:\n",
    "    for line in f.readlines():\n",
    "        pi = normalize_file_to_pixels(line.strip(), width, height)\n",
    "        gts.append(pi)\n",
    "        \n",
    "\n",
    "    for line in s.readlines():\n",
    "        ss.append([float(v) for v in line.strip().split()])\n",
    "        "
   ]
  },
  {
   "cell_type": "code",
   "execution_count": 152,
   "id": "4096d80b-b6fe-408e-b18a-916b6cae0fbf",
   "metadata": {},
   "outputs": [
    {
     "data": {
      "text/plain": [
       "[(0, 1849, 1157, 1944, 1481),\n",
       " (1, 1546, 1688, 1729, 2146),\n",
       " (2, 1165, 1841, 1331, 2154)]"
      ]
     },
     "execution_count": 152,
     "metadata": {},
     "output_type": "execute_result"
    }
   ],
   "source": [
    "gts"
   ]
  },
  {
   "cell_type": "code",
   "execution_count": 153,
   "id": "d5efa73f-953c-4888-88de-32b8a08b2679",
   "metadata": {},
   "outputs": [
    {
     "data": {
      "text/plain": [
       "[[2.0, 1780.0, 1159.0, 2012.0, 1490.0],\n",
       " [3.0, 1484.0, 1718.0, 1790.0, 2149.0],\n",
       " [1.0, 1122.0, 1835.0, 1374.0, 2156.0]]"
      ]
     },
     "execution_count": 153,
     "metadata": {},
     "output_type": "execute_result"
    }
   ],
   "source": [
    "ss"
   ]
  },
  {
   "cell_type": "code",
   "execution_count": 84,
   "id": "384e24f3-2392-4e39-a368-141c66d9ee42",
   "metadata": {},
   "outputs": [],
   "source": [
    "gt_files = os.listdir(ground_truth_dir)\n",
    "sys_files = os.listdir(system_dir)\n",
    "\n",
    "gt_files.remove('.ipynb_checkpoints')\n",
    "sys_files.remove('.ipynb_checkpoints')\n",
    "\n",
    "for filename in gt_files:\n",
    "    gt_path = os.path.join(ground_truth_dir, filename)\n",
    "    sys_path = os.path.join(system_dir, filename)\n",
    "\n",
    "with open(gt_path, 'r', encoding='ascii') as gt_file, open(sys_path, 'r', encoding='ascii') as sys_file:\n",
    "    gt_annotations = [tuple(map(float, line.strip().split())) for line in gt_file.readlines()]\n",
    "    sys_annotations = [tuple(map(float, line.strip().split())) for line in sys_file.readlines()]\n",
    "    gts=[]\n",
    "    for a in gt_annotations:\n",
    "        gt = normalize_to_pixels(a, 3840,2160)\n",
    "        gts.append(gt)\n",
    "    \n",
    "    gt_annotations = gts\n",
    "    "
   ]
  },
  {
   "cell_type": "code",
   "execution_count": 85,
   "id": "71003b7b-7c14-445b-95cc-6213c0a773ce",
   "metadata": {},
   "outputs": [
    {
     "data": {
      "text/plain": [
       "[(1.0, 981.0, 1390.0, 1272.0, 1804.0),\n",
       " (2.0, 1678.0, 763.0, 1931.0, 1069.0),\n",
       " (3.0, 1398.0, 1322.0, 1668.0, 1715.0)]"
      ]
     },
     "execution_count": 85,
     "metadata": {},
     "output_type": "execute_result"
    }
   ],
   "source": [
    "sys_annotations"
   ]
  },
  {
   "cell_type": "code",
   "execution_count": 86,
   "id": "05c3209a-72a6-4b75-be5c-0834c81d8ff2",
   "metadata": {},
   "outputs": [
    {
     "data": {
      "text/plain": [
       "[(0.0, 1763, 757, 1855, 1055),\n",
       " (1.0, 1441, 1306, 1612, 1736),\n",
       " (2.0, 1029, 1381, 1225, 1792)]"
      ]
     },
     "execution_count": 86,
     "metadata": {},
     "output_type": "execute_result"
    }
   ],
   "source": [
    "gt_annotations"
   ]
  },
  {
   "cell_type": "code",
   "execution_count": 87,
   "id": "7abf7ce2-05a7-4220-a643-985f8b73fb96",
   "metadata": {},
   "outputs": [
    {
     "data": {
      "text/plain": [
       "'frame_0090.txt'"
      ]
     },
     "execution_count": 87,
     "metadata": {},
     "output_type": "execute_result"
    }
   ],
   "source": [
    "filename"
   ]
  },
  {
   "cell_type": "code",
   "execution_count": 43,
   "id": "769f29ba-5ea9-4502-90a1-fd3f82fb43e6",
   "metadata": {},
   "outputs": [],
   "source": [
    "annotations = [(1780, 1159, 2012, 1490),\n",
    "               (1484, 1718, 1790, 2149),\n",
    "                (1122, 1835, 1374, 2156)]\n",
    "\n",
    "gts = [(1849, 1157, 1944, 1481),\n",
    "       (1546, 1688, 1729, 2146),\n",
    "       (1165, 1841, 1331, 2154)]"
   ]
  },
  {
   "cell_type": "code",
   "execution_count": 44,
   "id": "f7a614a8-4811-453b-a5eb-bf532b18d5e8",
   "metadata": {},
   "outputs": [],
   "source": [
    "ious=[]\n",
    "for i in range(len(gts)):\n",
    "    box1 = gts[i]\n",
    "    box2 = annotations[i]\n",
    "    iou = calculate_iou(box1, box2)\n",
    "    ious.append(iou)"
   ]
  },
  {
   "cell_type": "code",
   "execution_count": 80,
   "id": "56b26e94-5495-435c-b7d1-b9ba1558d3ce",
   "metadata": {},
   "outputs": [],
   "source": [
    "'''\n",
    "To fix a problem with annotation order \n",
    "Now boxes will match based on line order\n",
    "\n",
    "Args: \n",
    "    - GT label dir\n",
    "    - SYS label dir\n",
    "    - New output dir\n",
    "\n",
    "'''\n",
    "def reorder_system_files(ground_truth_dir, system_dir, output_dir):\n",
    "    # Get the list of files in both directories\n",
    "    gt_files = os.listdir(ground_truth_dir)\n",
    "    sys_files = os.listdir(system_dir)\n",
    "\n",
    "    gt_files.remove('.ipynb_checkpoints')\n",
    "    sys_files.remove('.ipynb_checkpoints')\n",
    "\n",
    "    for filename in gt_files:\n",
    "        gt_path = os.path.join(ground_truth_dir, filename)\n",
    "        sys_path = os.path.join(system_dir, filename)\n",
    "        \n",
    "\n",
    "        with open(gt_path, 'r', encoding='ascii') as gt_file, open(sys_path, 'r', encoding='ascii') as sys_file:\n",
    "            gt_annotations = [tuple(map(float, line.strip().split())) for line in gt_file.readlines()]\n",
    "            sys_annotations = [tuple(map(float, line.strip().split())) for line in sys_file.readlines()]\n",
    "            gts=[]\n",
    "            for a in gt_annotations:\n",
    "                gt = normalize_to_pixels(a, 3840,2160)\n",
    "                gts.append(gt)\n",
    "            \n",
    "            gt_annotations = gts\n",
    "            reordered_sys_annotations = []\n",
    "\n",
    "            for gt_annotation in gt_annotations:\n",
    "                highest_iou = 0\n",
    "                best_sys_annotation = None\n",
    "\n",
    "                for sys_annotation in sys_annotations:\n",
    "                    iou = calculate_iou(gt_annotation[1:], sys_annotation[1:])\n",
    "                    if iou > highest_iou:\n",
    "                        highest_iou = iou\n",
    "                        best_sys_annotation = sys_annotation\n",
    "\n",
    "                if best_sys_annotation is not None:\n",
    "                    reordered_sys_annotations.append(best_sys_annotation)\n",
    "                    sys_annotations.remove(best_sys_annotation)\n",
    "\n",
    "            output_path = os.path.join(output_dir, filename)\n",
    "            with open(output_path, 'w', encoding='ascii') as output_file:\n",
    "                for sys_annotation in reordered_sys_annotations:\n",
    "                    output_file.write(\" \".join(map(str, sys_annotation)) + \"\\n\")\n",
    "\n",
    "    return gt_annotations, sys_annotations\n",
    "\n",
    "# Example usage:\n",
    "ground_truth_dir = \"../tracking_videos/frames/track_beluga_ip/labels_gt\"\n",
    "system_dir = \"../AS-One/data/text_annot_deepsort\"\n",
    "output_dir = \"../AS-One/data/text_annot_deepsort_ordered\"\n",
    "\n",
    "# gt, sys = reorder_system_files(ground_truth_dir, system_dir, output_dir)"
   ]
  },
  {
   "cell_type": "code",
   "execution_count": 40,
   "id": "8f3cfb98-3bb1-4feb-b491-a05685b89cfa",
   "metadata": {},
   "outputs": [],
   "source": [
    "def calculate_iou(box1, box2):\n",
    "    # Calculate Intersection over Union (IoU) between two bounding boxes\n",
    "    x1, y1, x2, y2 = box1\n",
    "    x3, y3, x4, y4 = box2\n",
    "\n",
    "    intersection_area = max(0, min(x2, x4) - max(x1, x3)) * max(0, min(y2, y4) - max(y1, y3))\n",
    "    # print(intersection_area)\n",
    "    area1 = (x2 - x1) * (y2 - y1)\n",
    "    area2 = (x4 - x3) * (y4 - y3)\n",
    "    \n",
    "    union_area = area1 + area2 - intersection_area\n",
    "\n",
    "    iou = intersection_area / union_area\n",
    "    return iou"
   ]
  },
  {
   "cell_type": "code",
   "execution_count": null,
   "id": "6fa49f18-7410-458a-a724-3503b1ea3dfe",
   "metadata": {},
   "outputs": [],
   "source": []
  }
 ],
 "metadata": {
  "kernelspec": {
   "display_name": "yolo",
   "language": "python",
   "name": "yolo"
  },
  "language_info": {
   "codemirror_mode": {
    "name": "ipython",
    "version": 3
   },
   "file_extension": ".py",
   "mimetype": "text/x-python",
   "name": "python",
   "nbconvert_exporter": "python",
   "pygments_lexer": "ipython3",
   "version": "3.10.12"
  }
 },
 "nbformat": 4,
 "nbformat_minor": 5
}
