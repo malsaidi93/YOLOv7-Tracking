{
 "cells": [
  {
   "cell_type": "code",
   "execution_count": 1,
   "metadata": {},
   "outputs": [],
   "source": [
    "import math\n",
    "import os\n",
    "from os.path import isfile, join\n",
    "import glob\n",
    "import cv2\n",
    "from PIL import Image\n",
    "import matplotlib.pyplot as plt"
   ]
  },
  {
   "cell_type": "code",
   "execution_count": 2,
   "metadata": {},
   "outputs": [],
   "source": [
    "# Get all gt and sys files\n",
    "\n",
    "\n",
    "gt_files = sorted(glob.glob('DJI_0004/gt_0004_pixel/*.txt'))\n",
    "sys_files = sorted(glob.glob('DJI_0004/yolo_sort_tracking/*.txt'))"
   ]
  },
  {
   "cell_type": "code",
   "execution_count": 3,
   "metadata": {},
   "outputs": [],
   "source": [
    "def calculate_iou(box1, box2):\n",
    "    \"\"\"\n",
    "    Calculate Intersection over Union (IoU) between two bounding boxes.\n",
    "\n",
    "    Args:\n",
    "    - box1: A tuple representing the coordinates (x1, y1, x2, y2) of the first bounding box.\n",
    "    - box2: A tuple representing the coordinates (x1, y1, x2, y2) of the second bounding box.\n",
    "\n",
    "    Returns:\n",
    "    - The IoU (Intersection over Union) value between the two bounding boxes.\n",
    "    \"\"\"\n",
    "    x1, y1, x2, y2 = box1\n",
    "    x3, y3, x4, y4 = box2\n",
    "\n",
    "    intersection_area = max(0, min(x2, x4) - max(x1, x3)) * max(0, min(y2, y4) - max(y1, y3))\n",
    "    area1 = (x2 - x1) * (y2 - y1)\n",
    "    area2 = (x4 - x3) * (y4 - y3)\n",
    "    union_area = area1 + area2 - intersection_area\n",
    "\n",
    "    iou = intersection_area / union_area\n",
    "    return iou"
   ]
  },
  {
   "cell_type": "code",
   "execution_count": 5,
   "metadata": {},
   "outputs": [],
   "source": [
    "SYS=[]\n",
    "GT=[]\n",
    "for i in range(len(gt_files)):\n",
    "    with open(gt_files[i], 'r') as f:\n",
    "        gt_annotations = [tuple(map(float, line.strip().split())) for line in f.readlines()]\n",
    "        GT.append(gt_annotations)\n",
    "    with open(sys_files[i], 'r') as f:\n",
    "        sys_annotations = [tuple(map(float, line.strip().split())) for line in f.readlines()]\n",
    "    new_sys=[]\n",
    "    for (k, gt) in enumerate(gt_annotations):\n",
    "        gt_bbox = gt[2:]\n",
    "        # print(gt_bbox)\n",
    "        for (j,sys) in enumerate(sys_annotations):\n",
    "            sys_bbox = sys[2:]\n",
    "            # new_sys=[]\n",
    "            iou = calculate_iou(gt_bbox, sys_bbox)\n",
    "            if iou >= 0.5:\n",
    "                # print(f'Matches Found in File {i}\\n\\t {k} in GT with {j} in SYS')\n",
    "                new_sys.append(sys)\n",
    "    \n",
    "    SYS.append(new_sys)\n",
    "    "
   ]
  },
  {
   "cell_type": "code",
   "execution_count": 77,
   "metadata": {},
   "outputs": [
    {
     "data": {
      "text/plain": [
       "[(0.0, 0.0, 191.0, 1525.0, 416.0, 1642.0),\n",
       " (1.0, 0.0, 1577.0, 957.0, 1664.0, 1123.0),\n",
       " (2.0, 1.0, 1649.0, 986.0, 1717.0, 1070.0),\n",
       " (3.0, 0.0, 0.0, 1665.0, 117.0, 1746.0)]"
      ]
     },
     "execution_count": 77,
     "metadata": {},
     "output_type": "execute_result"
    }
   ],
   "source": [
    "GT[0]"
   ]
  },
  {
   "cell_type": "code",
   "execution_count": 78,
   "metadata": {},
   "outputs": [],
   "source": [
    "def compute_metrics(gt_list, sys_list):\n",
    "    \"\"\"\n",
    "    Compute multi-object tracking metrics: FP, FN, IDS, MOTA\n",
    "    \"\"\"\n",
    "    FP = 0  # False Positives\n",
    "    FN = 0  # False Negatives\n",
    "    IDS = 0  # ID Switches\n",
    "    total_objects = 0  # Total number of objects\n",
    "    total_iou = 0\n",
    "    total_matches = 0\n",
    "    distance=[]\n",
    "    adults=0\n",
    "    calfs = 0\n",
    "    \n",
    "    \n",
    "    for frame_gt, frame_sys in zip(gt_list, sys_list):\n",
    "        gt_ids = [obj[0] for obj in frame_gt]\n",
    "        sys_ids = [obj[0] for obj in frame_sys]\n",
    "        \n",
    "        gt_cls = [obj[1] for obj in frame_gt]\n",
    "        sys_cls = [obj[1] for obj in frame_sys] \n",
    "        \n",
    "        for cls in gt_cls:\n",
    "            if cls == 0:\n",
    "                adults+=1\n",
    "            else:\n",
    "                calfs+=1\n",
    "        total_objects += len(gt_ids)\n",
    "        # print(f\"Total of {total_objects} in Frame {frame_gt}\")\n",
    "        # for obj_id in gt_ids:\n",
    "        #     if obj_id not in sys_ids:\n",
    "        #         FN += 1\n",
    "        \n",
    "        # for obj_id in sys_ids:\n",
    "        #     if obj_id not in gt_ids:\n",
    "        #         FP += 1\n",
    "        if len(frame_gt) > len(frame_sys):\n",
    "            FN += len(frame_gt) - len(frame_sys)\n",
    "    \n",
    "        if len(frame_gt) < len(frame_sys):\n",
    "            FP += len(frame_sys) - len(frame_gt)\n",
    "        \n",
    "        \n",
    "        for (i,obj_gt), (j,obj_sys) in zip(enumerate(frame_gt), enumerate(frame_sys)):\n",
    "            obj_id_gt = obj_gt[0]\n",
    "            bbox_gt = obj_gt[2:]\n",
    "            obj_id_sys = obj_sys[0]\n",
    "            bbox_sys = obj_sys[2:]\n",
    "            iou = calculate_iou(bbox_gt, bbox_sys)\n",
    "                \n",
    "            if obj_id_gt != obj_id_sys:\n",
    "                IDS+=1\n",
    "                if iou > 0.5:\n",
    "                    total_matches+=1\n",
    "                    d1 = 1-iou\n",
    "                    distance.append(d1)\n",
    "                    obj_id_sys = obj_id_gt\n",
    "                    # IDS-=1\n",
    "                    \n",
    "            else:\n",
    "                total_matches+=1\n",
    "                d1 = 1-iou\n",
    "                distance.append(d1)\n",
    "                    \n",
    "    MOTP = 1 - sum(distance) / total_matches if total_matches else 0\n",
    "    MOTA = 1 - (FP + FN + IDS) / total_objects if total_objects else 0\n",
    "    \n",
    "    return FP, FN, IDS, MOTA, MOTP, total_objects, distance,adults,calfs"
   ]
  },
  {
   "cell_type": "code",
   "execution_count": 79,
   "metadata": {},
   "outputs": [],
   "source": [
    "fp, fn, ids, mota, motp, t, d, adults, calfs = compute_metrics(GT,SYS)"
   ]
  },
  {
   "cell_type": "code",
   "execution_count": 80,
   "metadata": {},
   "outputs": [
    {
     "data": {
      "text/plain": [
       "132"
      ]
     },
     "execution_count": 80,
     "metadata": {},
     "output_type": "execute_result"
    }
   ],
   "source": [
    "adults"
   ]
  },
  {
   "cell_type": "code",
   "execution_count": 82,
   "metadata": {},
   "outputs": [
    {
     "data": {
      "text/plain": [
       "49"
      ]
     },
     "execution_count": 82,
     "metadata": {},
     "output_type": "execute_result"
    }
   ],
   "source": [
    "calfs"
   ]
  },
  {
   "cell_type": "code",
   "execution_count": 83,
   "metadata": {},
   "outputs": [
    {
     "data": {
      "text/plain": [
       "181"
      ]
     },
     "execution_count": 83,
     "metadata": {},
     "output_type": "execute_result"
    }
   ],
   "source": [
    "adults+calfs"
   ]
  },
  {
   "cell_type": "code",
   "execution_count": 62,
   "metadata": {},
   "outputs": [],
   "source": [
    "def compute_metrics_post(gt_list, sys_list):\n",
    "    \"\"\"\n",
    "    Compute multi-object tracking metrics: FP, FN, IDS, MOTA\n",
    "    \"\"\"\n",
    "    FP = 0  # False Positives\n",
    "    FN = 0  # False Negatives\n",
    "    IDS = 0  # ID Switches\n",
    "    total_objects = 0  # Total number of objects\n",
    "    total_iou = 0\n",
    "    total_matches = 0\n",
    "    distance=[]\n",
    "    \n",
    "    \n",
    "    for frame_gt, frame_sys in zip(gt_list, sys_list):\n",
    "        gt_ids = [obj[0] for obj in frame_gt]\n",
    "        sys_ids = [obj[0] for obj in frame_sys]\n",
    "        \n",
    "        total_objects += len(gt_ids)\n",
    "        \n",
    "        if len(frame_gt) > len(frame_sys):\n",
    "            FN += len(frame_gt) - len(frame_sys)\n",
    "    \n",
    "        if len(frame_gt) < len(frame_sys):\n",
    "            FP += len(frame_sys) - len(frame_gt)\n",
    "\n",
    "        for (i,obj_gt), (j,obj_sys) in zip(enumerate(frame_gt), enumerate(frame_sys)):\n",
    "            obj_id_gt = obj_gt[0]\n",
    "            bbox_gt = obj_gt[2:]\n",
    "            obj_id_sys = obj_sys[0]\n",
    "            bbox_sys = obj_sys[2:]\n",
    "            iou = calculate_iou(bbox_gt, bbox_sys)\n",
    "                \n",
    "            if obj_id_gt != obj_id_sys:\n",
    "                IDS+=1\n",
    "                if iou > 0.5:\n",
    "                    total_matches+=1\n",
    "                    d1 = 1-iou\n",
    "                    distance.append(d1)\n",
    "                    obj_id_sys = obj_id_gt\n",
    "                    IDS-=1\n",
    "                    \n",
    "            else:\n",
    "                total_matches+=1\n",
    "                d1 = 1-iou\n",
    "                distance.append(d1)\n",
    "                    \n",
    "    MOTP = 1 - sum(distance) / total_matches if total_matches else 0\n",
    "    MOTA = 1 - (FP + FN + IDS) / total_objects if total_objects else 0\n",
    "    \n",
    "    return FP, FN, IDS, MOTA, MOTP, total_objects, distance"
   ]
  },
  {
   "cell_type": "code",
   "execution_count": 68,
   "metadata": {},
   "outputs": [],
   "source": [
    "fpp, fnp, idsp, motap, motpp, tp, dp = compute_metrics_post(GT,SYS)"
   ]
  },
  {
   "cell_type": "code",
   "execution_count": 86,
   "metadata": {},
   "outputs": [
    {
     "data": {
      "text/plain": [
       "0.7569060773480663"
      ]
     },
     "execution_count": 86,
     "metadata": {},
     "output_type": "execute_result"
    }
   ],
   "source": [
    "motap"
   ]
  },
  {
   "cell_type": "code",
   "execution_count": 85,
   "metadata": {},
   "outputs": [
    {
     "data": {
      "text/plain": [
       "23"
      ]
     },
     "execution_count": 85,
     "metadata": {},
     "output_type": "execute_result"
    }
   ],
   "source": [
    "fnp"
   ]
  },
  {
   "cell_type": "code",
   "execution_count": 73,
   "metadata": {},
   "outputs": [
    {
     "data": {
      "text/plain": [
       "0.0"
      ]
     },
     "execution_count": 73,
     "metadata": {},
     "output_type": "execute_result"
    }
   ],
   "source": [
    "mota"
   ]
  },
  {
   "cell_type": "code",
   "execution_count": 74,
   "metadata": {},
   "outputs": [
    {
     "data": {
      "text/plain": [
       "0.739905312341764"
      ]
     },
     "execution_count": 74,
     "metadata": {},
     "output_type": "execute_result"
    }
   ],
   "source": [
    "motpp"
   ]
  },
  {
   "cell_type": "code",
   "execution_count": 85,
   "metadata": {},
   "outputs": [],
   "source": [
    "def calculate_distance(box1, box2):\n",
    "    \"\"\"\n",
    "    Calculate the distance between the centers of two bounding boxes.\n",
    "\n",
    "    Args:\n",
    "    - box1: A tuple representing the coordinates (x1, y1, x2, y2) of the first bounding box.\n",
    "    - box2: A tuple representing the coordinates (x1, y1, x2, y2) of the second bounding box.\n",
    "\n",
    "    Returns:\n",
    "    - The distance between the centers of the two bounding boxes.\n",
    "    \"\"\"\n",
    "    x1, y1, x2, y2 = box1\n",
    "    x3, y3, x4, y4 = box2\n",
    "\n",
    "    center_x1 = (x1 + x2) / 2\n",
    "    center_y1 = (y1 + y2) / 2\n",
    "\n",
    "    center_x2 = (x3 + x4) / 2\n",
    "    center_y2 = (y3 + y4) / 2\n",
    "\n",
    "    c1 = (center_x1, center_y1)\n",
    "    c2 = (center_x2, center_y2)\n",
    "\n",
    "    dc1c2 = euclidean_distance(c1,c2)\n",
    "\n",
    "\n",
    "    return dc1c2\n",
    "\n",
    "\n",
    "def find_bbox_center(x1, y1, x2, y2):\n",
    "    \"\"\"\n",
    "    Calculate the center of a bounding box.\n",
    "\n",
    "    Args:\n",
    "    - x1, y1: The top-left coordinates of the bounding box.\n",
    "    - x2, y2: The bottom-right coordinates of the bounding box.\n",
    "\n",
    "    Returns:\n",
    "    - A tuple representing the (x, y) coordinates of the center of the bounding box.\n",
    "    \"\"\"\n",
    "    \n",
    "    center_x = (x1 + x2) / 2\n",
    "    center_y = (y1 + y2) / 2\n",
    "    return center_x, center_y\n",
    "def euclidean_distance(point1, point2):\n",
    "    \"\"\"\n",
    "    Calculate the Euclidean distance between two points.\n",
    "    \n",
    "    Args:\n",
    "    - point1: A tuple representing the (x, y) coordinates of the first point.\n",
    "    - point2: A tuple representing the (x, y) coordinates of the second point.\n",
    "    \n",
    "    Returns:\n",
    "    - The Euclidean distance between the two points.\n",
    "    \"\"\"\n",
    "    return math.sqrt((point1[0] - point2[0])**2 + (point1[1] - point2[1])**2)"
   ]
  },
  {
   "cell_type": "code",
   "execution_count": 86,
   "metadata": {},
   "outputs": [
    {
     "data": {
      "text/plain": [
       "10.002229432382967"
      ]
     },
     "execution_count": 86,
     "metadata": {},
     "output_type": "execute_result"
    }
   ],
   "source": [
    "calculate_distance(GT[0][0][2:], SYS[0][0][2:])"
   ]
  },
  {
   "cell_type": "code",
   "execution_count": 82,
   "metadata": {},
   "outputs": [
    {
     "data": {
      "text/plain": [
       "(0.0, 0.0, 191.0, 1525.0, 416.0, 1642.0)"
      ]
     },
     "execution_count": 82,
     "metadata": {},
     "output_type": "execute_result"
    }
   ],
   "source": [
    "GT[0][0]"
   ]
  },
  {
   "cell_type": "code",
   "execution_count": null,
   "metadata": {},
   "outputs": [],
   "source": []
  }
 ],
 "metadata": {
  "kernelspec": {
   "display_name": "yolo",
   "language": "python",
   "name": "python3"
  },
  "language_info": {
   "codemirror_mode": {
    "name": "ipython",
    "version": 3
   },
   "file_extension": ".py",
   "mimetype": "text/x-python",
   "name": "python",
   "nbconvert_exporter": "python",
   "pygments_lexer": "ipython3",
   "version": "3.10.13"
  }
 },
 "nbformat": 4,
 "nbformat_minor": 2
}
